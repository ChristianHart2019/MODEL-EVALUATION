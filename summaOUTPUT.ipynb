{
 "cells": [
  {
   "cell_type": "raw",
   "metadata": {},
   "source": []
  },
  {
   "cell_type": "code",
   "execution_count": null,
   "metadata": {},
   "outputs": [],
   "source": []
  },
  {
   "cell_type": "code",
   "execution_count": null,
   "metadata": {},
   "outputs": [],
   "source": [
    "##############################################################\n",
    "### This jupyter-notebook is an experiment in plotting and ###\n",
    "### analysis of SUMMA output data by C.Hart 02/2020.       ###\n",
    "##############################################################\n",
    "\n",
    "# load all the necessary modules and packages\n",
    "import netCDF4 as nc4\n",
    "import pandas as pd\n",
    "import numpy as np\n",
    "import netCDF4 as nc4\n",
    "import matplotlib.pyplot as plt\n",
    "import matplotlib.dates as mdates\n",
    "from matplotlib.dates import DateFormatter\n",
    "from datetime import date, timedelta\n",
    "import datetime as datetime\n",
    "import glob\n",
    "import scipy\n",
    "import time\n",
    "import csv\n",
    "from scipy.io import netcdf\n",
    "import os\n",
    "from pathlib import Path\n",
    "import pandas as pd\n",
    "\n",
    "# Handle date time conversions between pandas and matplotlib\n",
    "from pandas.plotting import register_matplotlib_converters\n",
    "register_matplotlib_converters()\n",
    "\n",
    "# Define the path with Path() because that avoids issues with how different OS' handle '/' and '\\'\n",
    "list_path = Path('/Users/cjh458/Desktop/LISTS')\t\t\t\t\t\t\t\t\t\t# A directory containing list control variables\n",
    "summaData_path = Path('/Users/cjh458/Desktop/summaOutput')\t\t\t\t\t\t\t# A path that has the SUMMA output data\n",
    "snotelData_path = Path('/Users/cjh458/Desktop/CREATE_METSIM_INPUTS')\t\t\t\t# A path where the snotel SWE and snow depth\n",
    "\n",
    "stationNumber=631# declare number of stations to iterate through\n",
    "\n",
    "# open the SUMMA output file\n",
    "os.chdir(summaData_path)\t\t\t\t\t\t\t\t\t\t\t\t\t\t\t# Change directory into the folder that will contain the filees\n",
    "summaFILE = nc4.Dataset('snotel_output_G001-001_timestep.nc', 'r')\n",
    "SWE = summaFILE.variables['scalarSWE']\n",
    "time = summaFILE.variables['time']\n",
    "\n",
    "# for z in range(len(time)):\n",
    "startdate = date(1990,1,1)\t\t\t\t\t\t\t\t\t\t\t\t\t\t\t# Declare a start date the is used in all SUMMA simulations\n",
    "print(startdate)\n",
    "dt_1 = datetime.datetime.fromtimestamp(time[0])\t\t\t\t\t\t\t# Specify desired start date\n",
    "dt_2 = datetime.datetime.fromtimestamp(time[len(time)-1])\t\t\t\t\t\t\t# Specify desired end date\n",
    "date = np.arange(dt_1, dt_2,3600)\n",
    "    \n",
    "print(dt_object)\n",
    "\n",
    "ax = plt.subplots(figsize=(12, 12))\n",
    "\n",
    "ax = plt.plot(time, SWE, 'r--')\n",
    "\n",
    "xlabel=\"time\"\n",
    "ylabel=\"snow water equivalent (SWE)\"\n",
    "title=\"SUMMA SWE plot\"\n",
    "\n",
    "plt.ylabel('SWE')\n"
   ]
  },
  {
   "cell_type": "code",
   "execution_count": null,
   "metadata": {},
   "outputs": [],
   "source": []
  },
  {
   "cell_type": "code",
   "execution_count": null,
   "metadata": {},
   "outputs": [],
   "source": []
  },
  {
   "cell_type": "code",
   "execution_count": null,
   "metadata": {},
   "outputs": [],
   "source": []
  }
 ],
 "metadata": {
  "kernelspec": {
   "display_name": "Python 3",
   "language": "python",
   "name": "python3"
  },
  "language_info": {
   "codemirror_mode": {
    "name": "ipython",
    "version": 3
   },
   "file_extension": ".py",
   "mimetype": "text/x-python",
   "name": "python",
   "nbconvert_exporter": "python",
   "pygments_lexer": "ipython3",
   "version": "3.7.4"
  }
 },
 "nbformat": 4,
 "nbformat_minor": 2
}
